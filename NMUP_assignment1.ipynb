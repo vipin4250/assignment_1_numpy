{
  "cells": [
    {
      "cell_type": "markdown",
      "metadata": {
        "id": "QSOKy61-r2Jj"
      },
      "source": [
        "Initialisation of Matrix"
      ]
    },
    {
      "cell_type": "code",
      "execution_count": 2,
      "metadata": {
        "colab": {
          "base_uri": "https://localhost:8080/"
        },
        "id": "Oe-HKRl9nlK2",
        "outputId": "ae92ca5e-001d-4c62-970f-63549da5a4f5"
      },
      "outputs": [
        {
          "name": "stdout",
          "output_type": "stream",
          "text": [
            "Enter values of  0 th row of matrix A\n",
            "\n",
            "\n",
            "Enter values of  1 th row of matrix A\n",
            "\n",
            "\n",
            "Enter values of  2 th row of matrix A\n",
            "\n",
            "\n",
            "Enter the values of B\n",
            "[[ 4. -3.  1.]\n",
            " [-2.  1. -3.]\n",
            " [ 1. -1.  2.]]\n",
            "[[-8.]\n",
            " [-4.]\n",
            " [ 3.]]\n"
          ]
        }
      ],
      "source": [
        "import numpy as np\n",
        "\n",
        "n = int(input(\"Enter the number of rows:\"))\n",
        "\n",
        "A=[]\n",
        "B=[]\n",
        "\n",
        "for i in range(0,n):\n",
        "    a =[]\n",
        "    print(\"Enter values of \", i,\"th row of matrix A\")\n",
        "    for j in range(0,n):\n",
        "         a.append(float(input()))\n",
        "    A.append(a)\n",
        "    print(\"\\n\")\n",
        "\n",
        "print(\"Enter the values of B\")\n",
        "for i in range(0,n):\n",
        "    B.append(float(input()))\n",
        "\n",
        "A=np.reshape(A,(n,n))\n",
        "B=np.reshape(B,(n,1))\n",
        "print(A)\n",
        "print(B)"
      ]
    },
    {
      "cell_type": "markdown",
      "metadata": {
        "id": "wh5AOGfmcxQL"
      },
      "source": [
        "  Converting A matrix into Triangular matrix"
      ]
    },
    {
      "cell_type": "code",
      "execution_count": 7,
      "metadata": {
        "colab": {
          "base_uri": "https://localhost:8080/"
        },
        "id": "Ma9dTfC4eXKT",
        "outputId": "ca1e4ed6-b00d-4fc1-a8bb-72157ef64d6d"
      },
      "outputs": [
        {
          "name": "stdout",
          "output_type": "stream",
          "text": [
            "[1. 0. 0.]\n",
            "A = \n",
            "[[1. 0. 0.]\n",
            " [0. 1. 0.]\n",
            " [0. 0. 1.]]\n",
            "B = \n",
            "[[-2.]\n",
            " [ 1.]\n",
            " [ 3.]]\n",
            "==========\n",
            "0\n",
            "==========\n",
            "[0. 1. 0.]\n",
            "A = \n",
            "[[1. 0. 0.]\n",
            " [0. 1. 0.]\n",
            " [0. 0. 1.]]\n",
            "B = \n",
            "[[-2.]\n",
            " [ 1.]\n",
            " [ 3.]]\n",
            "==========\n",
            "1\n",
            "==========\n",
            "[0. 0. 1.]\n",
            "A = \n",
            "[[1. 0. 0.]\n",
            " [0. 1. 0.]\n",
            " [0. 0. 1.]]\n",
            "B = \n",
            "[[-2.]\n",
            " [ 1.]\n",
            " [ 3.]]\n",
            "==========\n",
            "2\n",
            "==========\n"
          ]
        }
      ],
      "source": [
        "for x in range(0,n) :\n",
        "  print(A[x])\n",
        "  B[x]=B[x]/A[x][x]\n",
        "  A[x]=A[x]/A[x][x]\n",
        "  print(\"A = \")\n",
        "  print(A)\n",
        "  print(\"B = \")\n",
        "  print(B)\n",
        "  print(\"==========\")\n",
        "  print(x)\n",
        "  print(\"==========\")\n",
        "  for y in range(0,n) :\n",
        "    if (y==x) :\n",
        "      continue\n",
        "    B[y]=B[y]-(B[x]*A[y][x])\n",
        "    A[y]=A[y]-(A[x]*A[y][x])\n",
        "    "
      ]
    },
    {
      "cell_type": "code",
      "execution_count": 8,
      "metadata": {
        "colab": {
          "base_uri": "https://localhost:8080/"
        },
        "id": "ukwtlbnAjie4",
        "outputId": "69b4ebca-1deb-4cb6-8c36-fcc40e60561f"
      },
      "outputs": [
        {
          "name": "stdout",
          "output_type": "stream",
          "text": [
            "The final value of X is :-\n",
            "[[-2.]\n",
            " [ 1.]\n",
            " [ 3.]]\n"
          ]
        }
      ],
      "source": [
        "print(\"The final value of X is :-\")\n",
        "print(B)"
      ]
    }
  ],
  "metadata": {
    "colab": {
      "provenance": []
    },
    "kernelspec": {
      "display_name": "Python 3",
      "name": "python3"
    },
    "language_info": {
      "codemirror_mode": {
        "name": "ipython",
        "version": 3
      },
      "file_extension": ".py",
      "mimetype": "text/x-python",
      "name": "python",
      "nbconvert_exporter": "python",
      "pygments_lexer": "ipython3",
      "version": "3.10.9"
    }
  },
  "nbformat": 4,
  "nbformat_minor": 0
}
